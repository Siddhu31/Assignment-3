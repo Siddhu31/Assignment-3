{
 "cells": [
  {
   "cell_type": "markdown",
   "id": "ce5790e3",
   "metadata": {},
   "source": [
    "#  Write a Python function to sum all the numbers in a list.\n",
    "\n",
    "Sample List : (8, 2, 3, 0, 7)\n",
    "\n",
    "Expected Output : 20\n",
    "\n",
    "Explanation:\n",
    "\n",
    "Summation should like 8+2+3+0+7 = 20"
   ]
  },
  {
   "cell_type": "code",
   "execution_count": 1,
   "id": "24ed1e66",
   "metadata": {},
   "outputs": [
    {
     "name": "stdout",
     "output_type": "stream",
     "text": [
      "20\n"
     ]
    }
   ],
   "source": [
    "def sum(x):\n",
    "    total = 0\n",
    "    for number in x:\n",
    "        total +=number\n",
    "    return total\n",
    "print(sum([8, 2, 3, 0, 7]))"
   ]
  },
  {
   "cell_type": "code",
   "execution_count": null,
   "id": "52da7de4",
   "metadata": {},
   "outputs": [],
   "source": []
  }
 ],
 "metadata": {
  "kernelspec": {
   "display_name": "Python 3 (ipykernel)",
   "language": "python",
   "name": "python3"
  },
  "language_info": {
   "codemirror_mode": {
    "name": "ipython",
    "version": 3
   },
   "file_extension": ".py",
   "mimetype": "text/x-python",
   "name": "python",
   "nbconvert_exporter": "python",
   "pygments_lexer": "ipython3",
   "version": "3.9.13"
  }
 },
 "nbformat": 4,
 "nbformat_minor": 5
}
