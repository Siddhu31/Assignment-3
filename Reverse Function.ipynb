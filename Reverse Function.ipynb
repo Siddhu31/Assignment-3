{
 "cells": [
  {
   "cell_type": "markdown",
   "id": "4d9c7870",
   "metadata": {},
   "source": [
    "# Write a Python program to reverse a string.\n",
    "\n",
    "﻿Sample String : \"1234abcd\"\n",
    "\n",
    "Expected Output : \"dcba4321\""
   ]
  },
  {
   "cell_type": "code",
   "execution_count": 4,
   "id": "471e2146",
   "metadata": {},
   "outputs": [
    {
     "name": "stdout",
     "output_type": "stream",
     "text": [
      "Enter a Reverse string: 321uhddiS\n"
     ]
    }
   ],
   "source": [
    "def string(x):\n",
    "  return x[::-1]\n",
    "print(\"Enter a Reverse string:\", string(\"Siddhu123\"))"
   ]
  },
  {
   "cell_type": "code",
   "execution_count": null,
   "id": "a175c9c5",
   "metadata": {},
   "outputs": [],
   "source": []
  }
 ],
 "metadata": {
  "kernelspec": {
   "display_name": "Python 3 (ipykernel)",
   "language": "python",
   "name": "python3"
  },
  "language_info": {
   "codemirror_mode": {
    "name": "ipython",
    "version": 3
   },
   "file_extension": ".py",
   "mimetype": "text/x-python",
   "name": "python",
   "nbconvert_exporter": "python",
   "pygments_lexer": "ipython3",
   "version": "3.9.13"
  }
 },
 "nbformat": 4,
 "nbformat_minor": 5
}
